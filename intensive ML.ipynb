{
 "cells": [
  {
   "cell_type": "markdown",
   "metadata": {},
   "source": [
    "## print \"HELLO WORLD\" "
   ]
  },
  {
   "cell_type": "code",
   "execution_count": 1,
   "metadata": {},
   "outputs": [
    {
     "name": "stdout",
     "output_type": "stream",
     "text": [
      "HELLO WORLD:\n"
     ]
    }
   ],
   "source": [
    "print(\"HELLO WORLD:\")"
   ]
  },
  {
   "cell_type": "markdown",
   "metadata": {},
   "source": [
    "## Day 2: Python Basics (8 hours)"
   ]
  },
  {
   "cell_type": "markdown",
   "metadata": {},
   "source": [
    "### Functions"
   ]
  },
  {
   "cell_type": "code",
   "execution_count": 1,
   "metadata": {},
   "outputs": [
    {
     "name": "stdout",
     "output_type": "stream",
     "text": [
      "hello\n"
     ]
    }
   ],
   "source": [
    "print(\"hello\")"
   ]
  },
  {
   "cell_type": "code",
   "execution_count": 1,
   "metadata": {},
   "outputs": [
    {
     "name": "stdout",
     "output_type": "stream",
     "text": [
      "Hello, Atif!\n",
      "Hello, Ali!\n"
     ]
    }
   ],
   "source": [
    "def greet_user(name):\n",
    "    return f\"Hello, {name}!\"\n",
    "\n",
    "print(greet_user(\"Atif\"))  \n",
    "print(greet_user(\"Ali\"))   "
   ]
  },
  {
   "cell_type": "markdown",
   "metadata": {},
   "source": [
    "## 1.Arithmetic Function"
   ]
  },
  {
   "cell_type": "code",
   "execution_count": 2,
   "metadata": {},
   "outputs": [
    {
     "name": "stdout",
     "output_type": "stream",
     "text": [
      "The addition of two numbers is : 255.0\n",
      "None\n"
     ]
    }
   ],
   "source": [
    "def arithmetic():\n",
    "    try:\n",
    "        n1 = float(input(\"Enter Number 1\"))\n",
    "        n2 = float(input(\"Enter Number 2\"))\n",
    "    except ValueError:\n",
    "        return \"Error, invalid number! Please provide a Number\"\n",
    "    \n",
    "    # print(\"Enter n1:\",n1)\n",
    "    # print(\"Enter n2:\",n2)\n",
    "\n",
    "    operation = input(\"Enter your operation:(add, sub,mult,div,remainder)\").lower() \n",
    "    \n",
    "    if operation == \"add\":\n",
    "        a= n1 + n2\n",
    "        print(\"The addition of two numbers is :\",a)\n",
    "    elif operation == \"sub\":\n",
    "        s = n1 - n2 \n",
    "        print(\"The Subtraction of two numbers is :\",s)\n",
    "    elif operation == \"mul\":\n",
    "        m = n1*n2\n",
    "        print(\"The Multiplication of two numbers is :\",m)\n",
    "    elif operation == \"div\":\n",
    "        if n2 !=0:\n",
    "            d = n1/n2\n",
    "        else:\n",
    "            print(\"Division does not exist.\")\n",
    "    elif operation==\"remainder\":\n",
    "        r = n1%n2\n",
    "        print(\"The Remainder of Tow Numbers is:\", r)\n",
    "    else:\n",
    "        return \"Invalid operation\"\n",
    "    \n",
    "# Call the function\n",
    "ans = arithmetic()\n",
    "print(ans)\n",
    "    "
   ]
  },
  {
   "cell_type": "code",
   "execution_count": 4,
   "metadata": {},
   "outputs": [
    {
     "name": "stdout",
     "output_type": "stream",
     "text": [
      "The addition of two numbers is : 8.0\n"
     ]
    }
   ],
   "source": [
    "arithmetic()"
   ]
  },
  {
   "cell_type": "code",
   "execution_count": null,
   "metadata": {},
   "outputs": [],
   "source": []
  },
  {
   "cell_type": "code",
   "execution_count": 5,
   "metadata": {},
   "outputs": [
    {
     "name": "stdout",
     "output_type": "stream",
     "text": [
      "Error, invalid number! Please provide a Number\n"
     ]
    }
   ],
   "source": [
    "# Call the function\n",
    "result = arithmetic()\n",
    "print(result)"
   ]
  },
  {
   "cell_type": "code",
   "execution_count": 6,
   "metadata": {},
   "outputs": [
    {
     "name": "stdout",
     "output_type": "stream",
     "text": [
      "15\n",
      "5\n",
      "50\n",
      "2.0\n",
      "Error: Invalid operation.\n"
     ]
    }
   ],
   "source": [
    "def arithmetic_operation(a, b, operation):\n",
    "    \"\"\"\n",
    "    Perform basic arithmetic operations.\n",
    "\n",
    "    Args:\n",
    "        a (float): The first number.\n",
    "        b (float): The second number.\n",
    "        operation (str): The operation to perform. Options are 'add', 'subtract', 'multiply', 'divide'.\n",
    "\n",
    "    Returns:\n",
    "        float: The result of the operation.\n",
    "        str: Error message if the operation is invalid.\n",
    "    \"\"\"\n",
    "    if operation == 'add':\n",
    "        return a + b\n",
    "    elif operation == 'subtract':\n",
    "        return a - b\n",
    "    elif operation == 'multiply':\n",
    "        return a * b\n",
    "    elif operation == 'divide':\n",
    "        if b != 0:\n",
    "            return a / b\n",
    "        else:\n",
    "            return \"Error: Division by zero is not allowed.\"\n",
    "    else:\n",
    "        return \"Error: Invalid operation.\"\n",
    "\n",
    "# Example Usage\n",
    "num1 = 10\n",
    "num2 = 5\n",
    "\n",
    "print(arithmetic_operation(num1, num2, 'add'))       # Output: 15\n",
    "print(arithmetic_operation(num1, num2, 'subtract'))  # Output: 5\n",
    "print(arithmetic_operation(num1, num2, 'multiply'))  # Output: 50\n",
    "print(arithmetic_operation(num1, num2, 'divide'))    # Output: 2.0\n",
    "print(arithmetic_operation(num1, num2, 'modulus'))   # Output: Error: Invalid operation.\n"
   ]
  },
  {
   "cell_type": "markdown",
   "metadata": {},
   "source": []
  },
  {
   "cell_type": "code",
   "execution_count": 7,
   "metadata": {},
   "outputs": [
    {
     "name": "stdout",
     "output_type": "stream",
     "text": [
      "Error: Please enter valid numbers.\n"
     ]
    }
   ],
   "source": [
    "def arithmetic_operation():\n",
    "    \"\"\"\n",
    "    Perform basic arithmetic operations based on user input.\n",
    "    \"\"\"\n",
    "    # Get numbers from the user\n",
    "    try:\n",
    "        a = float(input(\"Enter the first number: \"))\n",
    "        b = float(input(\"Enter the second number: \"))\n",
    "    except ValueError:\n",
    "        return \"Error: Please enter valid numbers.\"\n",
    "\n",
    "    # Get operation from the user\n",
    "    operation = input(\"Enter the operation (add, subtract, multiply, divide): \").lower()\n",
    "\n",
    "    # Perform the operation\n",
    "    if operation == 'add':\n",
    "        return f\"Result: {a + b}\"\n",
    "    elif operation == 'subtract':\n",
    "        return f\"Result: {a - b}\"\n",
    "    elif operation == 'multiply':\n",
    "        return f\"Result: {a * b}\"\n",
    "    elif operation == 'divide':\n",
    "        if b != 0:\n",
    "            return f\"Result: {a / b}\"\n",
    "        else:\n",
    "            return \"Error: Division by zero is not allowed.\"\n",
    "    else:\n",
    "        return \"Error: Invalid operation.\"\n",
    "\n",
    "# Call the function\n",
    "result = arithmetic_operation()\n",
    "print(result)\n"
   ]
  },
  {
   "cell_type": "code",
   "execution_count": 8,
   "metadata": {},
   "outputs": [
    {
     "data": {
      "text/plain": [
       "'Error: Please enter valid numbers.'"
      ]
     },
     "execution_count": 8,
     "metadata": {},
     "output_type": "execute_result"
    }
   ],
   "source": [
    "arithmetic_operation()"
   ]
  },
  {
   "cell_type": "markdown",
   "metadata": {},
   "source": [
    "## Using Loops:"
   ]
  },
  {
   "cell_type": "code",
   "execution_count": 3,
   "metadata": {},
   "outputs": [
    {
     "name": "stdout",
     "output_type": "stream",
     "text": [
      "Unique values using loop: [1, 2, 3, 4, 5, 6, 7]\n"
     ]
    }
   ],
   "source": [
    "def get_unique_values_loop(input_list):\n",
    "    unique_values = []  # Ek khaali list banai jisme unique values rakhein ge\n",
    "    for item in input_list:  # Har element ke liye loop chalega\n",
    "        if item not in unique_values:  # Agar wo element unique_values list mein nahi hai\n",
    "            unique_values.append(item)  # Toh us element ko list mein add kar do\n",
    "    return unique_values  # Unique values wali list return kar do\n",
    "\n",
    "\n",
    "# Example Usage\n",
    "sample_list = [1, 2, 2, 3, 4, 4, 5, 6, 6, 7]\n",
    "result = get_unique_values_loop(sample_list)\n",
    "print(\"Unique values using loop:\", result)\n"
   ]
  },
  {
   "cell_type": "markdown",
   "metadata": {},
   "source": [
    "## Using List Comprehension:"
   ]
  },
  {
   "cell_type": "code",
   "execution_count": 10,
   "metadata": {},
   "outputs": [],
   "source": [
    "def get_unique_values_comprehension(user_input):\n",
    "    return list(set(user_input))  # Set banata hai unique values ka aur usko list mein convert karta hai\n",
    "# list(set())"
   ]
  },
  {
   "cell_type": "code",
   "execution_count": 11,
   "metadata": {},
   "outputs": [
    {
     "data": {
      "text/plain": [
       "[64, 1.2, 2, 34, 3, 5, 33, 6, 4, 32, 644, 354, 44, 224, 909, 55, 45433, 443]"
      ]
     },
     "execution_count": 11,
     "metadata": {},
     "output_type": "execute_result"
    }
   ],
   "source": [
    "list_a = [1.2,34,5,3,2,2,3,33,3,44,5,6,55,4,33,4,64,32,5,644,354,443,224,45433,909]\n",
    "get_unique_values_comprehension(list_a)\n"
   ]
  },
  {
   "cell_type": "code",
   "execution_count": 12,
   "metadata": {},
   "outputs": [
    {
     "name": "stdout",
     "output_type": "stream",
     "text": [
      "Unique values using list comprehension: [1, 2, 3, 4, 5, 6, 7]\n"
     ]
    }
   ],
   "source": [
    "def get_unique_values_comprehension(input_list):\n",
    "    \"\"\"\n",
    "    Return unique values from the given list using list comprehension.\n",
    "    Args:\n",
    "        input_list (list): A list of elements.\n",
    "    Returns:\n",
    "        list: A list containing only unique elements from the input list.\n",
    "    \"\"\"\n",
    "    return list(set(input_list))\n",
    "\n",
    "# Example Usage\n",
    "sample_list = [1, 2, 2, 3, 4, 4, 5, 6, 6, 7]\n",
    "result = get_unique_values_comprehension(sample_list)\n",
    "print(\"Unique values using list comprehension:\", result)\n"
   ]
  },
  {
   "cell_type": "markdown",
   "metadata": {},
   "source": [
    "# 1. for Loop\n",
    "- The for loop is used to iterate over a sequence (like a list, tuple, string, or range)."
   ]
  },
  {
   "cell_type": "code",
   "execution_count": 13,
   "metadata": {},
   "outputs": [
    {
     "name": "stdout",
     "output_type": "stream",
     "text": [
      "Random float between 0 and 1: 0.2662647525952485\n"
     ]
    }
   ],
   "source": [
    "import random\n",
    "\n",
    "# Generate a random float\n",
    "num = random.random()\n",
    "print(f\"Random float between 0 and 1: {num}\")\n"
   ]
  },
  {
   "cell_type": "code",
   "execution_count": 1,
   "metadata": {},
   "outputs": [
    {
     "name": "stdout",
     "output_type": "stream",
     "text": [
      "Random integer: 25\n"
     ]
    }
   ],
   "source": [
    "import random\n",
    "\n",
    "# Generate a random integer between 10 and 50\n",
    "num = random.randint(10, 50)\n",
    "print(f\"Random integer: {num}\")\n",
    "\n"
   ]
  },
  {
   "cell_type": "code",
   "execution_count": 15,
   "metadata": {},
   "outputs": [
    {
     "name": "stdout",
     "output_type": "stream",
     "text": [
      "Random number with step: 65\n"
     ]
    }
   ],
   "source": [
    "import random\n",
    "\n",
    "# Generate a random number between 10 and 100, in steps of 5\n",
    "num = random.randrange(10, 100, 5)\n",
    "print(f\"Random number with step: {num}\")\n"
   ]
  },
  {
   "cell_type": "code",
   "execution_count": 16,
   "metadata": {},
   "outputs": [
    {
     "name": "stdout",
     "output_type": "stream",
     "text": [
      "Randomly selected fruit: date\n"
     ]
    }
   ],
   "source": [
    "import random\n",
    "\n",
    "# Randomly pick a fruit\n",
    "fruits = [\"apple\", \"banana\", \"cherry\", \"date\"]\n",
    "selected_fruit = random.choice(fruits)\n",
    "print(f\"Randomly selected fruit: {selected_fruit}\")\n"
   ]
  },
  {
   "cell_type": "code",
   "execution_count": 17,
   "metadata": {},
   "outputs": [
    {
     "name": "stdout",
     "output_type": "stream",
     "text": [
      "Shuffled list: [1, 4, 2, 3, 5]\n"
     ]
    }
   ],
   "source": [
    "import random\n",
    "\n",
    "# Shuffle a list\n",
    "numbers = [1, 2, 3, 4, 5]\n",
    "random.shuffle(numbers)\n",
    "print(f\"Shuffled list: {numbers}\")\n"
   ]
  },
  {
   "cell_type": "code",
   "execution_count": 18,
   "metadata": {},
   "outputs": [
    {
     "name": "stdout",
     "output_type": "stream",
     "text": [
      "List of random numbers: [89, 50, 59, 35, 54]\n"
     ]
    }
   ],
   "source": [
    "import random\n",
    "\n",
    "# Generate 5 random integers between 1 and 100\n",
    "random_numbers = [random.randint(1, 100) for _ in range(5)]\n",
    "print(f\"List of random numbers: {random_numbers}\")\n"
   ]
  },
  {
   "cell_type": "code",
   "execution_count": 19,
   "metadata": {},
   "outputs": [
    {
     "name": "stdout",
     "output_type": "stream",
     "text": [
      "Random numbers with NumPy: [0.26837821 0.04977653 0.6852421  0.30577598 0.94437536]\n"
     ]
    }
   ],
   "source": [
    "import numpy as np\n",
    "\n",
    "# Generate 5 random numbers between 0 and 1\n",
    "random_numbers = np.random.rand(5)\n",
    "print(f\"Random numbers with NumPy: {random_numbers}\")\n",
    "\n"
   ]
  },
  {
   "cell_type": "code",
   "execution_count": 20,
   "metadata": {},
   "outputs": [],
   "source": [
    "\n",
    "\n",
    "intro = {\n",
    "    \"name\": \"Atif Ali Siddiqui\",\n",
    "    \"age\": 20,\n",
    "    \"email\": \"atifali@example.com\",\n",
    "    \"skills\": [\"Python\", \"HTML\",\"CSS\", \"SQL\"]\n",
    "}\n"
   ]
  },
  {
   "cell_type": "code",
   "execution_count": 21,
   "metadata": {},
   "outputs": [
    {
     "data": {
      "text/plain": [
       "{'name': 'Atif Ali Siddiqui',\n",
       " 'age': 20,\n",
       " 'email': 'atifali@example.com',\n",
       " 'skills': ['Python', 'HTML', 'CSS', 'SQL']}"
      ]
     },
     "execution_count": 21,
     "metadata": {},
     "output_type": "execute_result"
    }
   ],
   "source": [
    "intro"
   ]
  },
  {
   "cell_type": "markdown",
   "metadata": {},
   "source": [
    "## Hour 7-8: Practice with Simple Exercises\n",
    "- Tasks: Solve basic problems on platforms like LeetCode, HackerRank, or Codewars.\n",
    "- Milestone: Successfully complete 10 exercises, including at least two medium-level challenges\n"
   ]
  },
  {
   "cell_type": "markdown",
   "metadata": {},
   "source": [
    "## Example Problems and Solutions\n",
    "### Problem 1: Reverse a String (Easy)"
   ]
  },
  {
   "cell_type": "markdown",
   "metadata": {},
   "source": [
    "#### Slicing:"
   ]
  },
  {
   "cell_type": "code",
   "execution_count": 22,
   "metadata": {},
   "outputs": [
    {
     "name": "stdout",
     "output_type": "stream",
     "text": [
      "olleh\n"
     ]
    }
   ],
   "source": [
    "def reverse_string(s):\n",
    "    return s[::-1]\n",
    "\n",
    "# Example\n",
    "print(reverse_string(\"hello\"))  # Output: \"olleh\"\n",
    "\n"
   ]
  },
  {
   "cell_type": "code",
   "execution_count": 23,
   "metadata": {},
   "outputs": [
    {
     "name": "stdout",
     "output_type": "stream",
     "text": [
      "[5, 4, 3, 2, 1]\n"
     ]
    }
   ],
   "source": [
    "lst = [1, 2, 3, 4, 5]\n",
    "reversed_lst = lst[::-1]  # Reverse the list\n",
    "print(reversed_lst)  # Output: [5, 4, 3, 2, 1]\n"
   ]
  },
  {
   "cell_type": "code",
   "execution_count": 24,
   "metadata": {},
   "outputs": [
    {
     "name": "stdout",
     "output_type": "stream",
     "text": [
      "[5, 4]\n"
     ]
    }
   ],
   "source": [
    "lst = [1, 2, 3, 4, 5]\n",
    "reversed_lst = lst[4:2:-1]  # Reverse the list\n",
    "print(reversed_lst)  # Output: [5, 4, 3, 2, 1]\n"
   ]
  },
  {
   "cell_type": "markdown",
   "metadata": {},
   "source": [
    "## Problem 2: Remove Duplicates from an Array (Easy)"
   ]
  },
  {
   "cell_type": "code",
   "execution_count": 25,
   "metadata": {},
   "outputs": [
    {
     "name": "stdout",
     "output_type": "stream",
     "text": [
      "[1, 2, 3, 4]\n"
     ]
    }
   ],
   "source": [
    "def remove_duplicates(nums):\n",
    "    unique = []\n",
    "    for num in nums:\n",
    "        if num not in unique:\n",
    "            unique.append(num)\n",
    "    return unique\n",
    "\n",
    "# Example\n",
    "print(remove_duplicates([1, 2, 2, 3, 4, 4]))  # Output: [1, 2, 3, 4]\n",
    "\n",
    "\n"
   ]
  },
  {
   "cell_type": "code",
   "execution_count": 26,
   "metadata": {},
   "outputs": [],
   "source": [
    "def dub_rem(number):\n",
    "    uniqu = []\n",
    "    for item in number:\n",
    "        if item not in uniqu:\n",
    "            uniqu.append(item)\n",
    "    return uniqu\n",
    "\n",
    "user_list = [1,1,2,3,4,3]"
   ]
  },
  {
   "cell_type": "code",
   "execution_count": 27,
   "metadata": {},
   "outputs": [
    {
     "data": {
      "text/plain": [
       "[1, 2, 3, 4]"
      ]
     },
     "execution_count": 27,
     "metadata": {},
     "output_type": "execute_result"
    }
   ],
   "source": [
    "dub_rem(user_list)"
   ]
  },
  {
   "cell_type": "code",
   "execution_count": 28,
   "metadata": {},
   "outputs": [],
   "source": [
    "def rem(userlist):\n",
    "    list_unique = []\n",
    "    for i in userlist:\n",
    "        if i not in list_unique:\n",
    "            list_unique.append(i)\n",
    "    return list_unique\n",
    "\n"
   ]
  },
  {
   "cell_type": "code",
   "execution_count": 29,
   "metadata": {},
   "outputs": [
    {
     "data": {
      "text/plain": [
       "[1, 2, 4, 3, 5, 6, 44, 34, 544]"
      ]
     },
     "execution_count": 29,
     "metadata": {},
     "output_type": "execute_result"
    }
   ],
   "source": [
    "UserList = [1,2,4,4,3,2,4,3,4,3,4,4,5,6,6,6,44,34,3,3,544,34]\n",
    "rem(UserList)"
   ]
  },
  {
   "cell_type": "code",
   "execution_count": 30,
   "metadata": {},
   "outputs": [
    {
     "name": "stdout",
     "output_type": "stream",
     "text": [
      "3\n"
     ]
    }
   ],
   "source": [
    "def length_of_longest_substring(s):\n",
    "    char_set = set()\n",
    "    left = 0\n",
    "    max_length = 0\n",
    "\n",
    "    for right in range(len(s)):\n",
    "        while s[right] in char_set:\n",
    "            char_set.remove(s[left])\n",
    "            left += 1\n",
    "        char_set.add(s[right])\n",
    "        max_length = max(max_length, right - left + 1)\n",
    "\n",
    "    return max_length\n",
    "\n",
    "# Example\n",
    "print(length_of_longest_substring(\"abcabcbb\"))  # Output: 3 (\"abc\")\n"
   ]
  },
  {
   "cell_type": "markdown",
   "metadata": {},
   "source": [
    "### Problem 3: Longest Substring Without Repeating Characters (Medium)"
   ]
  },
  {
   "cell_type": "code",
   "execution_count": 31,
   "metadata": {},
   "outputs": [
    {
     "name": "stdout",
     "output_type": "stream",
     "text": [
      "2\n"
     ]
    }
   ],
   "source": [
    "def length_of_longest_substring(s):\n",
    "    char_set = set()\n",
    "    left = 0\n",
    "    max_length = 0\n",
    "\n",
    "    for right in range(len(s)):\n",
    "        while s[right] in char_set:\n",
    "            char_set.remove(s[left])\n",
    "            left += 1\n",
    "        char_set.add(s[right])\n",
    "        max_length = max(max_length, right - left + 1)\n",
    "\n",
    "    return max_length\n",
    "\n",
    "# Example \n",
    "print(length_of_longest_substring(\"1441\"))  \n"
   ]
  },
  {
   "cell_type": "code",
   "execution_count": 1,
   "metadata": {},
   "outputs": [],
   "source": [
    "def lengthoflongestsubtring(t):\n",
    "    char = set()\n",
    "    left = 0\n",
    "    max_len = 0\n",
    "    for right in range(len(t)):\n",
    "        while t[right] in char:\n",
    "            char.remove(t[left])\n",
    "            left = left + 1\n",
    "        char.add(t[right])\n",
    "        max_len = max(max_len,right - left + 1)\n",
    "    return max_len\n",
    "\n",
    "        \n"
   ]
  },
  {
   "cell_type": "code",
   "execution_count": 6,
   "metadata": {},
   "outputs": [
    {
     "data": {
      "text/plain": [
       "3"
      ]
     },
     "execution_count": 6,
     "metadata": {},
     "output_type": "execute_result"
    }
   ],
   "source": [
    "lengthoflongestsubtring(\"2234344333222\")"
   ]
  },
  {
   "cell_type": "markdown",
   "metadata": {},
   "source": [
    "### Sum of Even Numbers in a List\n",
    "#### Write a function to calculate the sum of all even numbers in a list.\n",
    "- Example Input: [1, 2, 3, 4, 5, 6]\n",
    "- Example Output: 12"
   ]
  },
  {
   "cell_type": "code",
   "execution_count": 34,
   "metadata": {},
   "outputs": [
    {
     "name": "stdout",
     "output_type": "stream",
     "text": [
      "12\n"
     ]
    }
   ],
   "source": [
    "def sum_of_even_numbers(lst):\n",
    "    return sum(num for num in lst if num % 2 == 0)\n",
    "# Example usage\n",
    "input_list = [1, 2, 3, 4, 5, 6]\n",
    "output = sum_of_even_numbers(input_list)\n",
    "print(output)  # Output: 12"
   ]
  },
  {
   "cell_type": "code",
   "execution_count": 35,
   "metadata": {},
   "outputs": [
    {
     "name": "stdout",
     "output_type": "stream",
     "text": [
      "12\n"
     ]
    }
   ],
   "source": [
    "def sum_of_even_numbers(lst):\n",
    "    # return sum(num for num in lst if num % 2 == 0)\n",
    "    for num in lst:\n",
    "        if num %2 == 0 :\n",
    "            sum = num+num\n",
    "    return sum\n",
    "# Example usage\n",
    "input_list = [1, 2, 3, 4, 5, 6]\n",
    "output = sum_of_even_numbers(input_list)\n",
    "print(output)  # Output: 12\n",
    "\n"
   ]
  },
  {
   "cell_type": "code",
   "execution_count": 36,
   "metadata": {},
   "outputs": [
    {
     "name": "stdout",
     "output_type": "stream",
     "text": [
      "21\n"
     ]
    }
   ],
   "source": [
    "def sum_of_even_numbers(lst):\n",
    "    total = 0  # Initialize a variable to store the sum\n",
    "    for num in lst:  # Loop through each number in the list\n",
    "          total = total + num  # Add the even number to the total sum\n",
    "    return total  # Return the final sum\n",
    "\n",
    "# Example usage\n",
    "input_list = [1, 2, 3, 4, 5, 6]\n",
    "output = sum_of_even_numbers(input_list)\n",
    "print(output)  # Output: 12\n"
   ]
  },
  {
   "cell_type": "markdown",
   "metadata": {},
   "source": [
    "# Day 3: NumPy for Numerical Computing (6 hours)\n",
    "- Hour 1: Creating Arrays\n",
    "-\tTasks: Create and manipulate arrays, including reshaping.\n",
    "-\tMilestone: Create a 3x3 array and reshape it into a 1D array.\n"
   ]
  },
  {
   "cell_type": "code",
   "execution_count": 37,
   "metadata": {},
   "outputs": [],
   "source": [
    "import numpy as np "
   ]
  },
  {
   "cell_type": "markdown",
   "metadata": {},
   "source": [
    "- this is a list"
   ]
  },
  {
   "cell_type": "code",
   "execution_count": 38,
   "metadata": {},
   "outputs": [
    {
     "data": {
      "text/plain": [
       "[[1, 2, 3, 4, 5, 5, 6, 4, 3, 2],\n",
       " [2, 3, 434, 2345, 3, 4, 53, 4, 234],\n",
       " [6, 7, 5, 6, 666, 5, 4, 64535, 6, 346, 34, 643643, 4, 643]]"
      ]
     },
     "execution_count": 38,
     "metadata": {},
     "output_type": "execute_result"
    }
   ],
   "source": [
    "array_list = [[1,2,3,4,5,5,6,4,3,2,],[2,3,434,2345,3,4,53,4,234],[6,7,5,6,666,5,4,64535,6,346,34,643643,4,643,]]\n",
    "array_list\n"
   ]
  },
  {
   "cell_type": "markdown",
   "metadata": {},
   "source": [
    "- this is an array:"
   ]
  },
  {
   "cell_type": "code",
   "execution_count": 39,
   "metadata": {},
   "outputs": [
    {
     "data": {
      "text/plain": [
       "array([[  1,   1],\n",
       "       [ 23, 454],\n",
       "       [344, 532]])"
      ]
     },
     "execution_count": 39,
     "metadata": {},
     "output_type": "execute_result"
    }
   ],
   "source": [
    "arr = np.array([[1,1],[23,454],[344,532]])\n",
    "arr"
   ]
  },
  {
   "cell_type": "code",
   "execution_count": 40,
   "metadata": {},
   "outputs": [
    {
     "data": {
      "text/plain": [
       "array([  1,   1,  23, 454, 344, 532])"
      ]
     },
     "execution_count": 40,
     "metadata": {},
     "output_type": "execute_result"
    }
   ],
   "source": [
    "ARR = arr.reshape(-1)\n",
    "ARR"
   ]
  },
  {
   "cell_type": "code",
   "execution_count": 41,
   "metadata": {},
   "outputs": [
    {
     "name": "stdout",
     "output_type": "stream",
     "text": [
      "Original 3x3 Array:\n",
      "[[1 2 3]\n",
      " [4 5 6]\n",
      " [7 8 9]]\n"
     ]
    }
   ],
   "source": [
    "# Import NumPy\n",
    "import numpy as np\n",
    "\n",
    "# Step 1: Create a 3x3 array (3 rows and 3 columns)\n",
    "array_3x3 = np.array([[1, 2, 3], [4, 5, 6], [7, 8, 9]])\n",
    "\n",
    "# Display the original 3x3 array\n",
    "print(\"Original 3x3 Array:\")\n",
    "print(array_3x3)\n",
    "\n"
   ]
  },
  {
   "cell_type": "code",
   "execution_count": 42,
   "metadata": {},
   "outputs": [
    {
     "name": "stdout",
     "output_type": "stream",
     "text": [
      "\n",
      "Reshaped 1D Array:\n",
      "[1 2 3 4 5 6 7 8 9]\n"
     ]
    }
   ],
   "source": [
    "\n",
    "        # Step 2: Reshape the 3x3 array into a 1D array (flatten the array)\n",
    "reshaped_array = array_3x3.reshape(-1)\n",
    "\n",
    "# Display the reshaped 1D array\n",
    "print(\"\\nReshaped 1D Array:\")\n",
    "print(reshaped_array)\n",
    "\n"
   ]
  },
  {
   "cell_type": "markdown",
   "metadata": {},
   "source": [
    "## Why use -1?\n",
    "- Automatic Dimension Calculation: When you pass -1 to the reshape() method, NumPy automatically calculates the dimension for that axis - - - based on the size of the array and the other given dimensions.\n",
    "\n",
    "- Flattening the Array: In this case, you're reshaping the array from a 3x3 matrix into a 1D array. By using -1, you're telling NumPy, \"I - - want to flatten this array, and you decide the appropriate number of elements for this new shape.\" NumPy knows the array has 9 elements in - total, so it flattens it into a single row with 9 elements.\n",
    "- The reshape(-1) will flatten it into a 1D array with all elements in a single row:"
   ]
  },
  {
   "cell_type": "code",
   "execution_count": 43,
   "metadata": {},
   "outputs": [
    {
     "name": "stdout",
     "output_type": "stream",
     "text": [
      "\n",
      "Reshaped 1D Array:\n",
      "[1 2 3 4 5 6 7 8 9]\n"
     ]
    }
   ],
   "source": [
    "# Step 2: Reshape the 3x3 array into a 1D array (flatten the array)\n",
    "reshaped_array = array_3x3.reshape(-1)\n",
    "\n",
    "# Display the reshaped 1D array\n",
    "print(\"\\nReshaped 1D Array:\")\n",
    "print(reshaped_array)\n"
   ]
  },
  {
   "cell_type": "markdown",
   "metadata": {},
   "source": [
    "### For Hour 2:\n",
    "- Basic Array Operations, the focus is on performing element-wise operations on arrays in NumPy. These operations allow you to manipulate\n",
    "- arrays efficiently without using loops.\n",
    "\n",
    "#### Key Concepts:\n",
    "- Element-wise Operations: NumPy supports operations that apply to each element of the array, such as addition, subtraction, multiplication, and division.\n",
    "- Broadcasting: NumPy automatically handles arrays of different shapes in element-wise operations. It will \"broadcast\" smaller arrays to match the shape of larger ones if possible."
   ]
  },
  {
   "cell_type": "code",
   "execution_count": 44,
   "metadata": {},
   "outputs": [
    {
     "name": "stdout",
     "output_type": "stream",
     "text": [
      "Celsius to Fahrenheit: [ 32.  50.  68.  86. 104.]\n",
      "Converted back to Celsius: [ 0. 10. 20. 30. 40.]\n"
     ]
    }
   ],
   "source": [
    "import numpy as np\n",
    "\n",
    "# Step 1: Create an array of temperatures in Celsius\n",
    "celsius = np.array([0, 10, 20, 30, 40])\n",
    "\n",
    "# Step 2: Perform element-wise conversion to Fahrenheit (Formula: F = C * 9/5 + 32)\n",
    "fahrenheit = celsius * 9/5 + 32\n",
    "\n",
    "# Step 3: Perform element-wise conversion back to Celsius (Formula: C = (F - 32) * 5/9)\n",
    "converted_celsius = (fahrenheit - 32) * 5/9\n",
    "\n",
    "# Display results\n",
    "print(\"Celsius to Fahrenheit:\", fahrenheit)\n",
    "print(\"Converted back to Celsius:\", converted_celsius)\n"
   ]
  },
  {
   "cell_type": "code",
   "execution_count": 45,
   "metadata": {},
   "outputs": [
    {
     "name": "stdout",
     "output_type": "stream",
     "text": [
      "The fahrenheit of the given numbers are: [77.]\n"
     ]
    }
   ],
   "source": [
    "USER_INPUT = input(\"Enter the degree celsius number separated by spaces:\")\n",
    "arr = np.fromstring(USER_INPUT,sep=\" \")\n",
    "arr\n",
    "\n",
    "convert_fahrenheit = arr *1.8 + 32\n",
    "\n",
    "print(f\"The fahrenheit of the given numbers are: {convert_fahrenheit}\")\n",
    "\n"
   ]
  },
  {
   "cell_type": "code",
   "execution_count": 46,
   "metadata": {},
   "outputs": [
    {
     "ename": "NameError",
     "evalue": "name 'ARRAY' is not defined",
     "output_type": "error",
     "traceback": [
      "\u001b[1;31m---------------------------------------------------------------------------\u001b[0m",
      "\u001b[1;31mNameError\u001b[0m                                 Traceback (most recent call last)",
      "Cell \u001b[1;32mIn[46], line 1\u001b[0m\n\u001b[1;32m----> 1\u001b[0m \u001b[43mARRAY\u001b[49m\n",
      "\u001b[1;31mNameError\u001b[0m: name 'ARRAY' is not defined"
     ]
    }
   ],
   "source": [
    "ARRAY"
   ]
  },
  {
   "cell_type": "code",
   "execution_count": 4,
   "metadata": {},
   "outputs": [
    {
     "name": "stdout",
     "output_type": "stream",
     "text": [
      "Created NumPy Array: [1. 3. 4. 3. 4. 5. 6.]\n"
     ]
    }
   ],
   "source": [
    "import numpy as np\n",
    "\n",
    "# Step 1: Take input as a string of numbers separated by spaces\n",
    "user_input = input(\"Enter numbers separated by spaces: \")\n",
    "\n",
    "# Step 2: Convert the input into a list of numbers using np.fromstring()\n",
    "array = np.fromstring(user_input, sep=' ')\n",
    "\n",
    "# Step 3: Display the NumPy array\n",
    "print(\"Created NumPy Array:\", array)\n"
   ]
  },
  {
   "cell_type": "markdown",
   "metadata": {},
   "source": [
    "#### Addition, Subtraction, Multiplication and Division of 2 arrays:"
   ]
  },
  {
   "cell_type": "code",
   "execution_count": 32,
   "metadata": {},
   "outputs": [
    {
     "name": "stdout",
     "output_type": "stream",
     "text": [
      "What operation do you want to perform? [Add,sub,mul,division]\n",
      "The Multiplication of 2 arrays is:  [ 1. 16.  9.]\n"
     ]
    }
   ],
   "source": [
    "user_input1 = input(\"Enter the numbers in the form or array:\")\n",
    "user_input2 = input(\"Enter the numbers in the form or array:\")\n",
    "arr1 = np.fromstring(user_input1,sep=\" \")\n",
    "arr2 = np.fromstring(user_input2, sep=\" \")\n",
    "\n",
    "while True:\n",
    "    print(\"What operation do you want to perform? [Add,sub,mul,division]\")\n",
    "    arr_operation = input(\"What operation do you want to perform? [Add,sub,mul,division]\").lower()\n",
    "    if arr_operation == \"add\":\n",
    "        print(\"The Sum of 2 arrays is: \",arr1 + arr2)\n",
    "    elif arr_operation == \"sub\":\n",
    "        print(\"The subtraction of 2 arrays is: \",arr1 - arr2) \n",
    "    elif arr_operation == \"mul\":\n",
    "        print(\"The Multiplication of 2 arrays is: \",arr1 * arr2) \n",
    "    elif arr_operation == \"division\":\n",
    "        print(\"The Division of 2 arrays is: \",arr1 / arr2) \n",
    "    else:\n",
    "        print(\"Error, Invalid operation:\")\n",
    "        \n",
    "    break        \n",
    "\n"
   ]
  },
  {
   "cell_type": "code",
   "execution_count": 37,
   "metadata": {},
   "outputs": [
    {
     "ename": "AttributeError",
     "evalue": "AxesImage.set() got an unexpected keyword argument 'camp'",
     "output_type": "error",
     "traceback": [
      "\u001b[1;31m---------------------------------------------------------------------------\u001b[0m",
      "\u001b[1;31mAttributeError\u001b[0m                            Traceback (most recent call last)",
      "Cell \u001b[1;32mIn[37], line 9\u001b[0m\n\u001b[0;32m      6\u001b[0m matrx_a_and_matrx_b \u001b[38;5;241m=\u001b[39m matrx_a \u001b[38;5;241m*\u001b[39mmatrx_b\n\u001b[0;32m      8\u001b[0m fig,axs \u001b[38;5;241m=\u001b[39m plt\u001b[38;5;241m.\u001b[39msubplots(\u001b[38;5;241m1\u001b[39m,\u001b[38;5;241m7\u001b[39m , figsize \u001b[38;5;241m=\u001b[39m (\u001b[38;5;241m8\u001b[39m,\u001b[38;5;241m18\u001b[39m))\n\u001b[1;32m----> 9\u001b[0m \u001b[43maxs\u001b[49m\u001b[43m[\u001b[49m\u001b[38;5;241;43m0\u001b[39;49m\u001b[43m]\u001b[49m\u001b[38;5;241;43m.\u001b[39;49m\u001b[43mimshow\u001b[49m\u001b[43m(\u001b[49m\u001b[43mmatrx_a\u001b[49m\u001b[43m,\u001b[49m\u001b[43m \u001b[49m\u001b[43mcamp\u001b[49m\u001b[43m \u001b[49m\u001b[38;5;241;43m=\u001b[39;49m\u001b[43m \u001b[49m\u001b[38;5;124;43m\"\u001b[39;49m\u001b[38;5;124;43mred\u001b[39;49m\u001b[38;5;124;43m\"\u001b[39;49m\u001b[43m)\u001b[49m\n\u001b[0;32m     10\u001b[0m axs[\u001b[38;5;241m0\u001b[39m]\u001b[38;5;241m.\u001b[39mtitle(\u001b[38;5;124m\"\u001b[39m\u001b[38;5;124mMatrix A\u001b[39m\u001b[38;5;124m\"\u001b[39m) \n",
      "File \u001b[1;32mf:\\installed software\\Lib\\site-packages\\matplotlib\\__init__.py:1521\u001b[0m, in \u001b[0;36m_preprocess_data.<locals>.inner\u001b[1;34m(ax, data, *args, **kwargs)\u001b[0m\n\u001b[0;32m   1518\u001b[0m \u001b[38;5;129m@functools\u001b[39m\u001b[38;5;241m.\u001b[39mwraps(func)\n\u001b[0;32m   1519\u001b[0m \u001b[38;5;28;01mdef\u001b[39;00m \u001b[38;5;21minner\u001b[39m(ax, \u001b[38;5;241m*\u001b[39margs, data\u001b[38;5;241m=\u001b[39m\u001b[38;5;28;01mNone\u001b[39;00m, \u001b[38;5;241m*\u001b[39m\u001b[38;5;241m*\u001b[39mkwargs):\n\u001b[0;32m   1520\u001b[0m     \u001b[38;5;28;01mif\u001b[39;00m data \u001b[38;5;129;01mis\u001b[39;00m \u001b[38;5;28;01mNone\u001b[39;00m:\n\u001b[1;32m-> 1521\u001b[0m         \u001b[38;5;28;01mreturn\u001b[39;00m \u001b[43mfunc\u001b[49m\u001b[43m(\u001b[49m\n\u001b[0;32m   1522\u001b[0m \u001b[43m            \u001b[49m\u001b[43max\u001b[49m\u001b[43m,\u001b[49m\n\u001b[0;32m   1523\u001b[0m \u001b[43m            \u001b[49m\u001b[38;5;241;43m*\u001b[39;49m\u001b[38;5;28;43mmap\u001b[39;49m\u001b[43m(\u001b[49m\u001b[43mcbook\u001b[49m\u001b[38;5;241;43m.\u001b[39;49m\u001b[43msanitize_sequence\u001b[49m\u001b[43m,\u001b[49m\u001b[43m \u001b[49m\u001b[43margs\u001b[49m\u001b[43m)\u001b[49m\u001b[43m,\u001b[49m\n\u001b[0;32m   1524\u001b[0m \u001b[43m            \u001b[49m\u001b[38;5;241;43m*\u001b[39;49m\u001b[38;5;241;43m*\u001b[39;49m\u001b[43m{\u001b[49m\u001b[43mk\u001b[49m\u001b[43m:\u001b[49m\u001b[43m \u001b[49m\u001b[43mcbook\u001b[49m\u001b[38;5;241;43m.\u001b[39;49m\u001b[43msanitize_sequence\u001b[49m\u001b[43m(\u001b[49m\u001b[43mv\u001b[49m\u001b[43m)\u001b[49m\u001b[43m \u001b[49m\u001b[38;5;28;43;01mfor\u001b[39;49;00m\u001b[43m \u001b[49m\u001b[43mk\u001b[49m\u001b[43m,\u001b[49m\u001b[43m \u001b[49m\u001b[43mv\u001b[49m\u001b[43m \u001b[49m\u001b[38;5;129;43;01min\u001b[39;49;00m\u001b[43m \u001b[49m\u001b[43mkwargs\u001b[49m\u001b[38;5;241;43m.\u001b[39;49m\u001b[43mitems\u001b[49m\u001b[43m(\u001b[49m\u001b[43m)\u001b[49m\u001b[43m}\u001b[49m\u001b[43m)\u001b[49m\n\u001b[0;32m   1526\u001b[0m     bound \u001b[38;5;241m=\u001b[39m new_sig\u001b[38;5;241m.\u001b[39mbind(ax, \u001b[38;5;241m*\u001b[39margs, \u001b[38;5;241m*\u001b[39m\u001b[38;5;241m*\u001b[39mkwargs)\n\u001b[0;32m   1527\u001b[0m     auto_label \u001b[38;5;241m=\u001b[39m (bound\u001b[38;5;241m.\u001b[39marguments\u001b[38;5;241m.\u001b[39mget(label_namer)\n\u001b[0;32m   1528\u001b[0m                   \u001b[38;5;129;01mor\u001b[39;00m bound\u001b[38;5;241m.\u001b[39mkwargs\u001b[38;5;241m.\u001b[39mget(label_namer))\n",
      "File \u001b[1;32mf:\\installed software\\Lib\\site-packages\\matplotlib\\axes\\_axes.py:5931\u001b[0m, in \u001b[0;36mAxes.imshow\u001b[1;34m(self, X, cmap, norm, aspect, interpolation, alpha, vmin, vmax, colorizer, origin, extent, interpolation_stage, filternorm, filterrad, resample, url, **kwargs)\u001b[0m\n\u001b[0;32m   5713\u001b[0m \u001b[38;5;129m@_preprocess_data\u001b[39m()\n\u001b[0;32m   5714\u001b[0m \u001b[38;5;129m@_docstring\u001b[39m\u001b[38;5;241m.\u001b[39minterpd\n\u001b[0;32m   5715\u001b[0m \u001b[38;5;28;01mdef\u001b[39;00m \u001b[38;5;21mimshow\u001b[39m(\u001b[38;5;28mself\u001b[39m, X, cmap\u001b[38;5;241m=\u001b[39m\u001b[38;5;28;01mNone\u001b[39;00m, norm\u001b[38;5;241m=\u001b[39m\u001b[38;5;28;01mNone\u001b[39;00m, \u001b[38;5;241m*\u001b[39m, aspect\u001b[38;5;241m=\u001b[39m\u001b[38;5;28;01mNone\u001b[39;00m,\n\u001b[1;32m   (...)\u001b[0m\n\u001b[0;32m   5718\u001b[0m            interpolation_stage\u001b[38;5;241m=\u001b[39m\u001b[38;5;28;01mNone\u001b[39;00m, filternorm\u001b[38;5;241m=\u001b[39m\u001b[38;5;28;01mTrue\u001b[39;00m, filterrad\u001b[38;5;241m=\u001b[39m\u001b[38;5;241m4.0\u001b[39m,\n\u001b[0;32m   5719\u001b[0m            resample\u001b[38;5;241m=\u001b[39m\u001b[38;5;28;01mNone\u001b[39;00m, url\u001b[38;5;241m=\u001b[39m\u001b[38;5;28;01mNone\u001b[39;00m, \u001b[38;5;241m*\u001b[39m\u001b[38;5;241m*\u001b[39mkwargs):\n\u001b[0;32m   5720\u001b[0m \u001b[38;5;250m    \u001b[39m\u001b[38;5;124;03m\"\"\"\u001b[39;00m\n\u001b[0;32m   5721\u001b[0m \u001b[38;5;124;03m    Display data as an image, i.e., on a 2D regular raster.\u001b[39;00m\n\u001b[0;32m   5722\u001b[0m \n\u001b[1;32m   (...)\u001b[0m\n\u001b[0;32m   5929\u001b[0m \u001b[38;5;124;03m    (unassociated) alpha representation.\u001b[39;00m\n\u001b[0;32m   5930\u001b[0m \u001b[38;5;124;03m    \"\"\"\u001b[39;00m\n\u001b[1;32m-> 5931\u001b[0m     im \u001b[38;5;241m=\u001b[39m \u001b[43mmimage\u001b[49m\u001b[38;5;241;43m.\u001b[39;49m\u001b[43mAxesImage\u001b[49m\u001b[43m(\u001b[49m\u001b[38;5;28;43mself\u001b[39;49m\u001b[43m,\u001b[49m\u001b[43m \u001b[49m\u001b[43mcmap\u001b[49m\u001b[38;5;241;43m=\u001b[39;49m\u001b[43mcmap\u001b[49m\u001b[43m,\u001b[49m\u001b[43m \u001b[49m\u001b[43mnorm\u001b[49m\u001b[38;5;241;43m=\u001b[39;49m\u001b[43mnorm\u001b[49m\u001b[43m,\u001b[49m\u001b[43m \u001b[49m\u001b[43mcolorizer\u001b[49m\u001b[38;5;241;43m=\u001b[39;49m\u001b[43mcolorizer\u001b[49m\u001b[43m,\u001b[49m\n\u001b[0;32m   5932\u001b[0m \u001b[43m                          \u001b[49m\u001b[43minterpolation\u001b[49m\u001b[38;5;241;43m=\u001b[39;49m\u001b[43minterpolation\u001b[49m\u001b[43m,\u001b[49m\u001b[43m \u001b[49m\u001b[43morigin\u001b[49m\u001b[38;5;241;43m=\u001b[39;49m\u001b[43morigin\u001b[49m\u001b[43m,\u001b[49m\n\u001b[0;32m   5933\u001b[0m \u001b[43m                          \u001b[49m\u001b[43mextent\u001b[49m\u001b[38;5;241;43m=\u001b[39;49m\u001b[43mextent\u001b[49m\u001b[43m,\u001b[49m\u001b[43m \u001b[49m\u001b[43mfilternorm\u001b[49m\u001b[38;5;241;43m=\u001b[39;49m\u001b[43mfilternorm\u001b[49m\u001b[43m,\u001b[49m\n\u001b[0;32m   5934\u001b[0m \u001b[43m                          \u001b[49m\u001b[43mfilterrad\u001b[49m\u001b[38;5;241;43m=\u001b[39;49m\u001b[43mfilterrad\u001b[49m\u001b[43m,\u001b[49m\u001b[43m \u001b[49m\u001b[43mresample\u001b[49m\u001b[38;5;241;43m=\u001b[39;49m\u001b[43mresample\u001b[49m\u001b[43m,\u001b[49m\n\u001b[0;32m   5935\u001b[0m \u001b[43m                          \u001b[49m\u001b[43minterpolation_stage\u001b[49m\u001b[38;5;241;43m=\u001b[39;49m\u001b[43minterpolation_stage\u001b[49m\u001b[43m,\u001b[49m\n\u001b[0;32m   5936\u001b[0m \u001b[43m                          \u001b[49m\u001b[38;5;241;43m*\u001b[39;49m\u001b[38;5;241;43m*\u001b[39;49m\u001b[43mkwargs\u001b[49m\u001b[43m)\u001b[49m\n\u001b[0;32m   5938\u001b[0m     \u001b[38;5;28;01mif\u001b[39;00m aspect \u001b[38;5;129;01mis\u001b[39;00m \u001b[38;5;28;01mNone\u001b[39;00m \u001b[38;5;129;01mand\u001b[39;00m \u001b[38;5;129;01mnot\u001b[39;00m (\n\u001b[0;32m   5939\u001b[0m             im\u001b[38;5;241m.\u001b[39mis_transform_set()\n\u001b[0;32m   5940\u001b[0m             \u001b[38;5;129;01mand\u001b[39;00m \u001b[38;5;129;01mnot\u001b[39;00m im\u001b[38;5;241m.\u001b[39mget_transform()\u001b[38;5;241m.\u001b[39mcontains_branch(\u001b[38;5;28mself\u001b[39m\u001b[38;5;241m.\u001b[39mtransData)):\n\u001b[0;32m   5941\u001b[0m         aspect \u001b[38;5;241m=\u001b[39m mpl\u001b[38;5;241m.\u001b[39mrcParams[\u001b[38;5;124m'\u001b[39m\u001b[38;5;124mimage.aspect\u001b[39m\u001b[38;5;124m'\u001b[39m]\n",
      "File \u001b[1;32mf:\\installed software\\Lib\\site-packages\\matplotlib\\image.py:874\u001b[0m, in \u001b[0;36mAxesImage.__init__\u001b[1;34m(self, ax, cmap, norm, colorizer, interpolation, origin, extent, filternorm, filterrad, resample, interpolation_stage, **kwargs)\u001b[0m\n\u001b[0;32m    857\u001b[0m \u001b[38;5;28;01mdef\u001b[39;00m \u001b[38;5;21m__init__\u001b[39m(\u001b[38;5;28mself\u001b[39m, ax,\n\u001b[0;32m    858\u001b[0m              \u001b[38;5;241m*\u001b[39m,\n\u001b[0;32m    859\u001b[0m              cmap\u001b[38;5;241m=\u001b[39m\u001b[38;5;28;01mNone\u001b[39;00m,\n\u001b[1;32m   (...)\u001b[0m\n\u001b[0;32m    869\u001b[0m              \u001b[38;5;241m*\u001b[39m\u001b[38;5;241m*\u001b[39mkwargs\n\u001b[0;32m    870\u001b[0m              ):\n\u001b[0;32m    872\u001b[0m     \u001b[38;5;28mself\u001b[39m\u001b[38;5;241m.\u001b[39m_extent \u001b[38;5;241m=\u001b[39m extent\n\u001b[1;32m--> 874\u001b[0m     \u001b[38;5;28;43msuper\u001b[39;49m\u001b[43m(\u001b[49m\u001b[43m)\u001b[49m\u001b[38;5;241;43m.\u001b[39;49m\u001b[38;5;21;43m__init__\u001b[39;49m\u001b[43m(\u001b[49m\n\u001b[0;32m    875\u001b[0m \u001b[43m        \u001b[49m\u001b[43max\u001b[49m\u001b[43m,\u001b[49m\n\u001b[0;32m    876\u001b[0m \u001b[43m        \u001b[49m\u001b[43mcmap\u001b[49m\u001b[38;5;241;43m=\u001b[39;49m\u001b[43mcmap\u001b[49m\u001b[43m,\u001b[49m\n\u001b[0;32m    877\u001b[0m \u001b[43m        \u001b[49m\u001b[43mnorm\u001b[49m\u001b[38;5;241;43m=\u001b[39;49m\u001b[43mnorm\u001b[49m\u001b[43m,\u001b[49m\n\u001b[0;32m    878\u001b[0m \u001b[43m        \u001b[49m\u001b[43mcolorizer\u001b[49m\u001b[38;5;241;43m=\u001b[39;49m\u001b[43mcolorizer\u001b[49m\u001b[43m,\u001b[49m\n\u001b[0;32m    879\u001b[0m \u001b[43m        \u001b[49m\u001b[43minterpolation\u001b[49m\u001b[38;5;241;43m=\u001b[39;49m\u001b[43minterpolation\u001b[49m\u001b[43m,\u001b[49m\n\u001b[0;32m    880\u001b[0m \u001b[43m        \u001b[49m\u001b[43morigin\u001b[49m\u001b[38;5;241;43m=\u001b[39;49m\u001b[43morigin\u001b[49m\u001b[43m,\u001b[49m\n\u001b[0;32m    881\u001b[0m \u001b[43m        \u001b[49m\u001b[43mfilternorm\u001b[49m\u001b[38;5;241;43m=\u001b[39;49m\u001b[43mfilternorm\u001b[49m\u001b[43m,\u001b[49m\n\u001b[0;32m    882\u001b[0m \u001b[43m        \u001b[49m\u001b[43mfilterrad\u001b[49m\u001b[38;5;241;43m=\u001b[39;49m\u001b[43mfilterrad\u001b[49m\u001b[43m,\u001b[49m\n\u001b[0;32m    883\u001b[0m \u001b[43m        \u001b[49m\u001b[43mresample\u001b[49m\u001b[38;5;241;43m=\u001b[39;49m\u001b[43mresample\u001b[49m\u001b[43m,\u001b[49m\n\u001b[0;32m    884\u001b[0m \u001b[43m        \u001b[49m\u001b[43minterpolation_stage\u001b[49m\u001b[38;5;241;43m=\u001b[39;49m\u001b[43minterpolation_stage\u001b[49m\u001b[43m,\u001b[49m\n\u001b[0;32m    885\u001b[0m \u001b[43m        \u001b[49m\u001b[38;5;241;43m*\u001b[39;49m\u001b[38;5;241;43m*\u001b[39;49m\u001b[43mkwargs\u001b[49m\n\u001b[0;32m    886\u001b[0m \u001b[43m    \u001b[49m\u001b[43m)\u001b[49m\n",
      "File \u001b[1;32mf:\\installed software\\Lib\\site-packages\\matplotlib\\image.py:277\u001b[0m, in \u001b[0;36m_ImageBase.__init__\u001b[1;34m(self, ax, cmap, norm, colorizer, interpolation, origin, filternorm, filterrad, resample, interpolation_stage, **kwargs)\u001b[0m\n\u001b[0;32m    273\u001b[0m \u001b[38;5;28mself\u001b[39m\u001b[38;5;241m.\u001b[39maxes \u001b[38;5;241m=\u001b[39m ax\n\u001b[0;32m    275\u001b[0m \u001b[38;5;28mself\u001b[39m\u001b[38;5;241m.\u001b[39m_imcache \u001b[38;5;241m=\u001b[39m \u001b[38;5;28;01mNone\u001b[39;00m\n\u001b[1;32m--> 277\u001b[0m \u001b[38;5;28;43mself\u001b[39;49m\u001b[38;5;241;43m.\u001b[39;49m\u001b[43m_internal_update\u001b[49m\u001b[43m(\u001b[49m\u001b[43mkwargs\u001b[49m\u001b[43m)\u001b[49m\n",
      "File \u001b[1;32mf:\\installed software\\Lib\\site-packages\\matplotlib\\artist.py:1233\u001b[0m, in \u001b[0;36mArtist._internal_update\u001b[1;34m(self, kwargs)\u001b[0m\n\u001b[0;32m   1226\u001b[0m \u001b[38;5;28;01mdef\u001b[39;00m \u001b[38;5;21m_internal_update\u001b[39m(\u001b[38;5;28mself\u001b[39m, kwargs):\n\u001b[0;32m   1227\u001b[0m \u001b[38;5;250m    \u001b[39m\u001b[38;5;124;03m\"\"\"\u001b[39;00m\n\u001b[0;32m   1228\u001b[0m \u001b[38;5;124;03m    Update artist properties without prenormalizing them, but generating\u001b[39;00m\n\u001b[0;32m   1229\u001b[0m \u001b[38;5;124;03m    errors as if calling `set`.\u001b[39;00m\n\u001b[0;32m   1230\u001b[0m \n\u001b[0;32m   1231\u001b[0m \u001b[38;5;124;03m    The lack of prenormalization is to maintain backcompatibility.\u001b[39;00m\n\u001b[0;32m   1232\u001b[0m \u001b[38;5;124;03m    \"\"\"\u001b[39;00m\n\u001b[1;32m-> 1233\u001b[0m     \u001b[38;5;28;01mreturn\u001b[39;00m \u001b[38;5;28;43mself\u001b[39;49m\u001b[38;5;241;43m.\u001b[39;49m\u001b[43m_update_props\u001b[49m\u001b[43m(\u001b[49m\n\u001b[0;32m   1234\u001b[0m \u001b[43m        \u001b[49m\u001b[43mkwargs\u001b[49m\u001b[43m,\u001b[49m\u001b[43m \u001b[49m\u001b[38;5;124;43m\"\u001b[39;49m\u001b[38;5;132;43;01m{cls.__name__}\u001b[39;49;00m\u001b[38;5;124;43m.set() got an unexpected keyword argument \u001b[39;49m\u001b[38;5;124;43m\"\u001b[39;49m\n\u001b[0;32m   1235\u001b[0m \u001b[43m        \u001b[49m\u001b[38;5;124;43m\"\u001b[39;49m\u001b[38;5;132;43;01m{prop_name!r}\u001b[39;49;00m\u001b[38;5;124;43m\"\u001b[39;49m\u001b[43m)\u001b[49m\n",
      "File \u001b[1;32mf:\\installed software\\Lib\\site-packages\\matplotlib\\artist.py:1206\u001b[0m, in \u001b[0;36mArtist._update_props\u001b[1;34m(self, props, errfmt)\u001b[0m\n\u001b[0;32m   1204\u001b[0m             func \u001b[38;5;241m=\u001b[39m \u001b[38;5;28mgetattr\u001b[39m(\u001b[38;5;28mself\u001b[39m, \u001b[38;5;124mf\u001b[39m\u001b[38;5;124m\"\u001b[39m\u001b[38;5;124mset_\u001b[39m\u001b[38;5;132;01m{\u001b[39;00mk\u001b[38;5;132;01m}\u001b[39;00m\u001b[38;5;124m\"\u001b[39m, \u001b[38;5;28;01mNone\u001b[39;00m)\n\u001b[0;32m   1205\u001b[0m             \u001b[38;5;28;01mif\u001b[39;00m \u001b[38;5;129;01mnot\u001b[39;00m \u001b[38;5;28mcallable\u001b[39m(func):\n\u001b[1;32m-> 1206\u001b[0m                 \u001b[38;5;28;01mraise\u001b[39;00m \u001b[38;5;167;01mAttributeError\u001b[39;00m(\n\u001b[0;32m   1207\u001b[0m                     errfmt\u001b[38;5;241m.\u001b[39mformat(\u001b[38;5;28mcls\u001b[39m\u001b[38;5;241m=\u001b[39m\u001b[38;5;28mtype\u001b[39m(\u001b[38;5;28mself\u001b[39m), prop_name\u001b[38;5;241m=\u001b[39mk),\n\u001b[0;32m   1208\u001b[0m                     name\u001b[38;5;241m=\u001b[39mk)\n\u001b[0;32m   1209\u001b[0m             ret\u001b[38;5;241m.\u001b[39mappend(func(v))\n\u001b[0;32m   1210\u001b[0m \u001b[38;5;28;01mif\u001b[39;00m ret:\n",
      "\u001b[1;31mAttributeError\u001b[0m: AxesImage.set() got an unexpected keyword argument 'camp'"
     ]
    },
    {
     "data": {
      "image/png": "[encoded data removed]",
      "text/plain": [
       "<Figure size 800x1800 with 7 Axes>"
      ]
     },
     "metadata": {},
     "output_type": "display_data"
    }
   ],
   "source": [
    "import matplotlib.pyplot as plt \n",
    "import numpy as np\n",
    "matrx_a = np.array([[1,2,3,4,5,6,7],[2,1,4,5,6,7,3],[9,8,7,6,5,4,3]])\n",
    "matrx_b = np.array([[12,21,34,43,5,12,17],[22,14,64,57,66,47,23],[29,85,77,86,59,46,34]])\n",
    "\n",
    "matrx_a_and_matrx_b = matrx_a *matrx_b\n",
    "\n",
    "fig,axs = plt.subplots(1,7 , figsize = (8,18))\n",
    "axs[0].imshow(matrx_a, camp = \"red\")\n",
    "axs[0].title(\"Matrix A\") \n"
   ]
  },
  {
   "cell_type": "code",
   "execution_count": 47,
   "metadata": {},
   "outputs": [
    {
     "data": {
      "image/png": "[encoded data removed]",
      "text/plain": [
       "<Figure size 1500x500 with 3 Axes>"
      ]
     },
     "metadata": {},
     "output_type": "display_data"
    }
   ],
   "source": [
    "import numpy as np\n",
    "import matplotlib.pyplot as plt\n",
    "\n",
    "# Step 1: Create two matrices\n",
    "matrix_a = np.array([[1, 2, 3], [4, 5, 6], [7, 8, 9]])\n",
    "matrix_b = np.array([[9, 8, 7], [6, 5, 4], [3, 2, 1]])\n",
    "\n",
    "# Step 2: Perform matrix multiplication\n",
    "result = np.dot(matrix_a, matrix_b)  # Or use result = matrix_a @ matrix_b\n",
    "\n",
    "# Step 3: Visualize the matrices using Matplotlib\n",
    "fig, axs = plt.subplots(1, 3, figsize=(15, 5))\n",
    "\n",
    "axs[0].imshow(matrix_a, cmap='Blues')\n",
    "axs[0].set_title(\"Matrix A\")\n",
    "\n",
    "axs[1].imshow(matrix_b, cmap='Reds')\n",
    "axs[1].set_title(\"Matrix B\")\n",
    "\n",
    "axs[2].imshow(result, cmap='Greens')\n",
    "axs[2].set_title(\"Result (A * B)\")\n",
    "\n",
    "plt.show()\n"
   ]
  },
  {
   "cell_type": "code",
   "execution_count": 48,
   "metadata": {},
   "outputs": [
    {
     "data": {
      "text/plain": [
       "array([[1, 4, 7],\n",
       "       [2, 5, 8],\n",
       "       [3, 6, 9]])"
      ]
     },
     "execution_count": 48,
     "metadata": {},
     "output_type": "execute_result"
    }
   ],
   "source": [
    "transpose_a = matrix_a.T\n",
    "transpose_a"
   ]
  },
  {
   "cell_type": "markdown",
   "metadata": {},
   "source": [
    "## Transpose of a Matrix\n"
   ]
  },
  {
   "cell_type": "code",
   "execution_count": 50,
   "metadata": {},
   "outputs": [
    {
     "data": {
      "text/plain": [
       "array([[9, 6, 3],\n",
       "       [8, 5, 2],\n",
       "       [7, 4, 1]])"
      ]
     },
     "execution_count": 50,
     "metadata": {},
     "output_type": "execute_result"
    }
   ],
   "source": [
    "transpose_b = matrix_b.T\n",
    "transpose_b"
   ]
  },
  {
   "cell_type": "markdown",
   "metadata": {},
   "source": [
    "## inversion of a matrix:"
   ]
  },
  {
   "cell_type": "code",
   "execution_count": 51,
   "metadata": {},
   "outputs": [
    {
     "ename": "LinAlgError",
     "evalue": "Singular matrix",
     "output_type": "error",
     "traceback": [
      "\u001b[1;31m---------------------------------------------------------------------------\u001b[0m",
      "\u001b[1;31mLinAlgError\u001b[0m                               Traceback (most recent call last)",
      "Cell \u001b[1;32mIn[51], line 1\u001b[0m\n\u001b[1;32m----> 1\u001b[0m inversion_a\u001b[38;5;241m=\u001b[39m \u001b[43mnp\u001b[49m\u001b[38;5;241;43m.\u001b[39;49m\u001b[43mlinalg\u001b[49m\u001b[38;5;241;43m.\u001b[39;49m\u001b[43minv\u001b[49m\u001b[43m(\u001b[49m\u001b[43mmatrix_a\u001b[49m\u001b[43m)\u001b[49m\n\u001b[0;32m      2\u001b[0m inversion_a\n\u001b[0;32m      3\u001b[0m \u001b[38;5;66;03m# nverse_c = np.linalg.inv(matrix_c)\u001b[39;00m\n",
      "File \u001b[1;32mf:\\installed software\\Lib\\site-packages\\numpy\\linalg\\_linalg.py:615\u001b[0m, in \u001b[0;36minv\u001b[1;34m(a)\u001b[0m\n\u001b[0;32m    612\u001b[0m signature \u001b[38;5;241m=\u001b[39m \u001b[38;5;124m'\u001b[39m\u001b[38;5;124mD->D\u001b[39m\u001b[38;5;124m'\u001b[39m \u001b[38;5;28;01mif\u001b[39;00m isComplexType(t) \u001b[38;5;28;01melse\u001b[39;00m \u001b[38;5;124m'\u001b[39m\u001b[38;5;124md->d\u001b[39m\u001b[38;5;124m'\u001b[39m\n\u001b[0;32m    613\u001b[0m \u001b[38;5;28;01mwith\u001b[39;00m errstate(call\u001b[38;5;241m=\u001b[39m_raise_linalgerror_singular, invalid\u001b[38;5;241m=\u001b[39m\u001b[38;5;124m'\u001b[39m\u001b[38;5;124mcall\u001b[39m\u001b[38;5;124m'\u001b[39m,\n\u001b[0;32m    614\u001b[0m               over\u001b[38;5;241m=\u001b[39m\u001b[38;5;124m'\u001b[39m\u001b[38;5;124mignore\u001b[39m\u001b[38;5;124m'\u001b[39m, divide\u001b[38;5;241m=\u001b[39m\u001b[38;5;124m'\u001b[39m\u001b[38;5;124mignore\u001b[39m\u001b[38;5;124m'\u001b[39m, under\u001b[38;5;241m=\u001b[39m\u001b[38;5;124m'\u001b[39m\u001b[38;5;124mignore\u001b[39m\u001b[38;5;124m'\u001b[39m):\n\u001b[1;32m--> 615\u001b[0m     ainv \u001b[38;5;241m=\u001b[39m \u001b[43m_umath_linalg\u001b[49m\u001b[38;5;241;43m.\u001b[39;49m\u001b[43minv\u001b[49m\u001b[43m(\u001b[49m\u001b[43ma\u001b[49m\u001b[43m,\u001b[49m\u001b[43m \u001b[49m\u001b[43msignature\u001b[49m\u001b[38;5;241;43m=\u001b[39;49m\u001b[43msignature\u001b[49m\u001b[43m)\u001b[49m\n\u001b[0;32m    616\u001b[0m \u001b[38;5;28;01mreturn\u001b[39;00m wrap(ainv\u001b[38;5;241m.\u001b[39mastype(result_t, copy\u001b[38;5;241m=\u001b[39m\u001b[38;5;28;01mFalse\u001b[39;00m))\n",
      "File \u001b[1;32mf:\\installed software\\Lib\\site-packages\\numpy\\linalg\\_linalg.py:104\u001b[0m, in \u001b[0;36m_raise_linalgerror_singular\u001b[1;34m(err, flag)\u001b[0m\n\u001b[0;32m    103\u001b[0m \u001b[38;5;28;01mdef\u001b[39;00m \u001b[38;5;21m_raise_linalgerror_singular\u001b[39m(err, flag):\n\u001b[1;32m--> 104\u001b[0m     \u001b[38;5;28;01mraise\u001b[39;00m LinAlgError(\u001b[38;5;124m\"\u001b[39m\u001b[38;5;124mSingular matrix\u001b[39m\u001b[38;5;124m\"\u001b[39m)\n",
      "\u001b[1;31mLinAlgError\u001b[0m: Singular matrix"
     ]
    }
   ],
   "source": [
    "inversion_a= np.linalg.inv(matrix_a)\n",
    "inversion_a\n",
    "# nverse_c = np.linalg.inv(matrix_c)"
   ]
  },
  {
   "cell_type": "code",
   "execution_count": 52,
   "metadata": {},
   "outputs": [
    {
     "name": "stdout",
     "output_type": "stream",
     "text": [
      "Inverse of Matrix C:\n",
      " [[ 0.6 -0.2]\n",
      " [-0.2  0.4]]\n"
     ]
    }
   ],
   "source": [
    "# Create a square invertible matrix\n",
    "matrix_c = np.array([[2, 1], [1, 3]])\n",
    "\n",
    "# Invert the matrix\n",
    "inverse_c = np.linalg.inv(matrix_c) # .linalg.inv(matrix name) use for inversion of a matrix\n",
    "print(\"Inverse of Matrix C:\\n\", inverse_c)\n"
   ]
  },
  {
   "cell_type": "markdown",
   "metadata": {},
   "source": [
    "# Hour 4-5: Indexing, Slicing, and Masking\n",
    "### Tasks:\n"
   ]
  },
  {
   "cell_type": "code",
   "execution_count": 6,
   "metadata": {},
   "outputs": [
    {
     "name": "stdout",
     "output_type": "stream",
     "text": [
      "43324\n",
      "[[334 453 676]]\n"
     ]
    }
   ],
   "source": [
    "matrix_4by3 =np.array([\n",
    "    [223,423,12],\n",
    "    [123,34,5344],\n",
    "    [334,453,676],\n",
    "    [985,834,43324]]) \n",
    "\n",
    "print(matrix_4by3[3,2])\n",
    "\n",
    "# Slicing: \n",
    "print(matrix_4by3[2:3])\n"
   ]
  },
  {
   "cell_type": "markdown",
   "metadata": {},
   "source": [
    "### Masking"
   ]
  },
  {
   "cell_type": "code",
   "execution_count": 7,
   "metadata": {},
   "outputs": [],
   "source": [
    "filt_r = matrix_4by3"
   ]
  },
  {
   "cell_type": "code",
   "execution_count": 21,
   "metadata": {},
   "outputs": [
    {
     "name": "stdout",
     "output_type": "stream",
     "text": [
      "[   12  5344   676 43324]\n",
      "[False  True False  True]\n"
     ]
    }
   ],
   "source": [
    "mat = matrix_4by3[:,2]\n",
    "print(mat)\n",
    "cond = mat>676\n",
    "print(cond)\n"
   ]
  },
  {
   "cell_type": "code",
   "execution_count": 22,
   "metadata": {},
   "outputs": [
    {
     "data": {
      "text/plain": [
       "array([[  123,    34,  5344],\n",
       "       [  985,   834, 43324]])"
      ]
     },
     "execution_count": 22,
     "metadata": {},
     "output_type": "execute_result"
    }
   ],
   "source": [
    "filt_rows = matrix_4by3[cond]\n",
    "filt_rows"
   ]
  },
  {
   "cell_type": "code",
   "execution_count": 1,
   "metadata": {},
   "outputs": [
    {
     "name": "stdout",
     "output_type": "stream",
     "text": [
      "Element at (2nd row, 3rd column): 6\n",
      "\n",
      "Sub-array (first 2 rows and columns):\n",
      " [[1 2]\n",
      " [4 5]]\n"
     ]
    }
   ],
   "source": [
    "import numpy as np\n",
    "\n",
    "# Step 1: Create a sample 2D array (matrix)\n",
    "matrix = np.array([\n",
    "    [1, 2, 3],\n",
    "    [4, 5, 6],\n",
    "    [7, 8, 9],\n",
    "    [10, 11, 12]\n",
    "])\n",
    "\n",
    "# Indexing: Access the element in the 2nd row, 3rd column\n",
    "element = matrix[1, 2]\n",
    "print(\"Element at (2nd row, 3rd column):\", element)\n",
    "\n",
    "# Slicing: Extract the first 2 rows and the first 2 columns\n",
    "sub_array = matrix[:2, :2]\n",
    "print(\"\\nSub-array (first 2 rows and columns):\\n\", sub_array)\n",
    "\n",
    "\n",
    "\n"
   ]
  },
  {
   "cell_type": "code",
   "execution_count": 8,
   "metadata": {},
   "outputs": [
    {
     "name": "stdout",
     "output_type": "stream",
     "text": [
      "[[1 2 3]\n",
      " [4 5 6]]\n",
      "\n",
      "[[1 2 3]\n",
      " [4 5 6]\n",
      " [7 8 9]]\n"
     ]
    }
   ],
   "source": [
    "import numpy as np\n",
    "\n",
    "# Step 1: Create a sample 2D array (matrix)\n",
    "matrix = np.array([\n",
    "    [1, 2, 3],\n",
    "    [4, 5, 6],\n",
    "    [7, 8, 9],\n",
    "    [10, 11, 12]\n",
    "])\n",
    "\n",
    "# extract \n",
    "\n",
    "print(matrix[:2,:3])\n",
    "\n",
    "print(f\"\\n{matrix[:3]}\")"
   ]
  },
  {
   "cell_type": "code",
   "execution_count": 15,
   "metadata": {},
   "outputs": [
    {
     "name": "stdout",
     "output_type": "stream",
     "text": [
      "[[ 1  2  3]\n",
      " [ 4  5  6]\n",
      " [ 7  8  9]\n",
      " [10 11 12]]\n",
      "[[1 2 3]\n",
      " [4 5 6]]\n"
     ]
    },
    {
     "data": {
      "text/plain": [
       "array([ 3,  6,  9, 12])"
      ]
     },
     "execution_count": 15,
     "metadata": {},
     "output_type": "execute_result"
    }
   ],
   "source": [
    "print(matrix)\n",
    "conditions = matrix[:2]\n",
    "print(conditions)\n",
    "condition = matrix[:,2]\n",
    "condition"
   ]
  },
  {
   "cell_type": "code",
   "execution_count": 11,
   "metadata": {},
   "outputs": [
    {
     "name": "stdout",
     "output_type": "stream",
     "text": [
      "\n",
      "Rows where 3rd column > 6:\n",
      " [[ 7  8  9]\n",
      " [10 11 12]]\n"
     ]
    }
   ],
   "source": [
    "# Masking: Extract rows where the value in the 3rd column is greater than 6\n",
    "condition = matrix[:, 2] > 6  # Boolean mask\n",
    "filtered_rows = matrix[condition]\n",
    "print(\"\\nRows where 3rd column > 6:\\n\", filtered_rows)"
   ]
  },
  {
   "cell_type": "code",
   "execution_count": 12,
   "metadata": {},
   "outputs": [
    {
     "name": "stdout",
     "output_type": "stream",
     "text": [
      "2\n"
     ]
    }
   ],
   "source": [
    "def subarray_sum(nums, k):\n",
    "    count = 0\n",
    "    current_sum = 0\n",
    "    prefix_sums = {0: 1}  # Map to store prefix sums\n",
    "\n",
    "    for num in nums:\n",
    "        current_sum += num\n",
    "        if current_sum - k in prefix_sums:\n",
    "            count += prefix_sums[current_sum - k]\n",
    "        prefix_sums[current_sum] = prefix_sums.get(current_sum, 0) + 1\n",
    "\n",
    "    return count\n",
    "\n",
    "# Example\n",
    "print(subarray_sum([1, 2, 3], 3))  # Output: 2 ([1, 2] and [3])\n"
   ]
  },
  {
   "cell_type": "code",
   "execution_count": 13,
   "metadata": {},
   "outputs": [
    {
     "name": "stdout",
     "output_type": "stream",
     "text": [
      "[[  223   423    12]\n",
      " [  123    34  5344]\n",
      " [  334   453   676]\n",
      " [  985   834 43324]]\n",
      "[23 44 35]\n"
     ]
    },
    {
     "data": {
      "text/plain": [
       "array([[   5129,   18612,     420],\n",
       "       [   2829,    1496,  187040],\n",
       "       [   7682,   19932,   23660],\n",
       "       [  22655,   36696, 1516340]])"
      ]
     },
     "execution_count": 13,
     "metadata": {},
     "output_type": "execute_result"
    }
   ],
   "source": [
    "matrix_4by3\n",
    "vact = np.array([23,44,35])\n",
    "res = matrix_4by3 * vact\n",
    "print(matrix_4by3)\n",
    "print(vact)\n",
    "res"
   ]
  },
  {
   "cell_type": "code",
   "execution_count": 14,
   "metadata": {},
   "outputs": [
    {
     "name": "stdout",
     "output_type": "stream",
     "text": [
      "Matrix:\n",
      " [[1 2 3]\n",
      " [4 5 6]]\n",
      "\n",
      "Vector: [10 20 30]\n",
      "\n",
      "Result of Broadcasting Multiplication:\n",
      " [[ 10  40  90]\n",
      " [ 40 100 180]]\n"
     ]
    }
   ],
   "source": [
    "# Step 1: Create a 2D array (matrix) and a 1D array (vector)\n",
    "matrix = np.array([[1, 2, 3], [4, 5, 6]])\n",
    "vector = np.array([10, 20, 30])\n",
    "\n",
    "# Step 2: Multiply the 1D array by the 2D array (broadcasting)\n",
    "result = matrix * vector  # Broadcasting happens here\n",
    "\n",
    "# Display the result\n",
    "print(\"Matrix:\\n\", matrix)\n",
    "print(\"\\nVector:\", vector)\n",
    "print(\"\\nResult of Broadcasting Multiplication:\\n\", result)\n"
   ]
  },
  {
   "cell_type": "markdown",
   "metadata": {},
   "source": [
    "# Hour 6: Broadcasting in NumPy\n",
    "### Tasks: Apply broadcasting rules to arrays of different shapes.\n",
    "- Broadcasting allows NumPy to perform operations on arrays of different shapes without needing explicit looping or reshaping.\n",
    "- This makes array computations more efficient\n",
    "### Milestone: Multiply a 1D array by a 2D array using broadcasting."
   ]
  },
  {
   "cell_type": "code",
   "execution_count": 15,
   "metadata": {},
   "outputs": [
    {
     "name": "stdout",
     "output_type": "stream",
     "text": [
      "1D Array:\n",
      " [1 2 3]\n",
      "2D Array:\n",
      " [[1]\n",
      " [2]\n",
      " [3]]\n",
      "Result after Broadcasting:\n",
      " [[1 2 3]\n",
      " [2 4 6]\n",
      " [3 6 9]]\n"
     ]
    }
   ],
   "source": [
    "import numpy as np\n",
    "\n",
    "# Define a 1D array\n",
    "arr_1d = np.array([1, 2, 3])\n",
    "\n",
    "# Define a 2D array\n",
    "arr_2d = np.array([[1], [2], [3]])\n",
    "\n",
    "# Apply broadcasting\n",
    "result = arr_1d * arr_2d\n",
    "\n",
    "print(\"1D Array:\\n\", arr_1d)\n",
    "print(\"2D Array:\\n\", arr_2d)\n",
    "print(\"Result after Broadcasting:\\n\", result)\n"
   ]
  },
  {
   "cell_type": "code",
   "execution_count": 16,
   "metadata": {},
   "outputs": [
    {
     "name": "stdout",
     "output_type": "stream",
     "text": [
      "[1 4 2]\n",
      "[[4]\n",
      " [5]\n",
      " [3]]\n",
      "[[ 4 16  8]\n",
      " [ 5 20 10]\n",
      " [ 3 12  6]]\n",
      "[[0.25       1.         0.5       ]\n",
      " [0.2        0.8        0.4       ]\n",
      " [0.33333333 1.33333333 0.66666667]]\n"
     ]
    }
   ],
   "source": [
    "import numpy as np\n",
    "arr1 = np.array([1,4,2])\n",
    "arr2 = np.array([[4],[5],[3]])\n",
    "mult  = arr1 * arr2\n",
    "div = arr1 /arr2\n",
    "print(arr1) \n",
    "print(arr2)\n",
    "print(mult)\n",
    "print(div)\n"
   ]
  },
  {
   "cell_type": "code",
   "execution_count": 17,
   "metadata": {},
   "outputs": [
    {
     "name": "stdout",
     "output_type": "stream",
     "text": [
      "1D array:\n",
      " [1 2 3]\n",
      "2D array:\n",
      " [[1 2 3]\n",
      " [4 5 6]]\n",
      "Result of broadcasting multiplication:\n",
      " [[ 1  4  9]\n",
      " [ 4 10 18]]\n"
     ]
    }
   ],
   "source": [
    "import numpy as np\n",
    "\n",
    "# Defining arrays\n",
    "a = np.array([1, 2, 3])  # Shape (3,)\n",
    "b = np.array([[1, 2, 3], [4, 5, 6]])  # Shape (2, 3)\n",
    "\n",
    "# Broadcasting multiplication\n",
    "result = b * a  # Broadcasting occurs here\n",
    "\n",
    "print(\"1D array:\\n\", a)\n",
    "print(\"2D array:\\n\", b)\n",
    "print(\"Result of broadcasting multiplication:\\n\", result)\n"
   ]
  },
  {
   "cell_type": "code",
   "execution_count": 18,
   "metadata": {},
   "outputs": [
    {
     "name": "stdout",
     "output_type": "stream",
     "text": [
      "[[  223   423    12]\n",
      " [  123    34  5344]\n",
      " [  334   453   676]\n",
      " [  985   834 43324]]\n"
     ]
    }
   ],
   "source": [
    "print(matrix_4by3)\n"
   ]
  },
  {
   "cell_type": "code",
   "execution_count": 19,
   "metadata": {},
   "outputs": [
    {
     "data": {
      "text/plain": [
       "array([[334, 453, 676]])"
      ]
     },
     "execution_count": 19,
     "metadata": {},
     "output_type": "execute_result"
    }
   ],
   "source": [
    "matrix_4by3[2:3]"
   ]
  },
  {
   "cell_type": "code",
   "execution_count": null,
   "metadata": {},
   "outputs": [],
   "source": []
  },
  {
   "cell_type": "code",
   "execution_count": null,
   "metadata": {},
   "outputs": [],
   "source": []
  },
  {
   "cell_type": "code",
   "execution_count": null,
   "metadata": {},
   "outputs": [],
   "source": []
  },
  {
   "cell_type": "code",
   "execution_count": null,
   "metadata": {},
   "outputs": [],
   "source": []
  }
 ],
 "metadata": {
  "kernelspec": {
   "display_name": "Python 3",
   "language": "python",
   "name": "python3"
  },
  "language_info": {
   "codemirror_mode": {
    "name": "ipython",
    "version": 3
   },
   "file_extension": ".py",
   "mimetype": "text/x-python",
   "name": "python",
   "nbconvert_exporter": "python",
   "pygments_lexer": "ipython3",
   "version": "3.13.0"
  }
 },
 "nbformat": 4,
 "nbformat_minor": 2
}
